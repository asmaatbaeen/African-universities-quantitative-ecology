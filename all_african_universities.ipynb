{
 "cells": [
  {
   "attachments": {},
   "cell_type": "markdown",
   "metadata": {},
   "source": [
    "## African universities\n",
    "This notebook is to obtain a comprehensive list of African universities form two different sources of data:\n",
    "    _local csv file containing university information, which includes details such as university name, country, longitude and latitude.\n",
    "    _universities library, which provides programmatic access to a vast collection of university information.\n",
    "By combining data from these sources, the notebook aims to create a more complete and accurate list of African universities.\n",
    "\n",
    "The resulting dataset can be used for various purposes, such as research, analysis, or generating insights into higher education across the African continent."
   ]
  },
  {
   "attachments": {},
   "cell_type": "markdown",
   "metadata": {},
   "source": [
    "## local parquet file"
   ]
  },
  {
   "cell_type": "code",
   "execution_count": 1,
   "metadata": {},
   "outputs": [
    {
     "data": {
      "text/html": [
       "<div>\n",
       "<style scoped>\n",
       "    .dataframe tbody tr th:only-of-type {\n",
       "        vertical-align: middle;\n",
       "    }\n",
       "\n",
       "    .dataframe tbody tr th {\n",
       "        vertical-align: top;\n",
       "    }\n",
       "\n",
       "    .dataframe thead th {\n",
       "        text-align: right;\n",
       "    }\n",
       "</style>\n",
       "<table border=\"1\" class=\"dataframe\">\n",
       "  <thead>\n",
       "    <tr style=\"text-align: right;\">\n",
       "      <th></th>\n",
       "      <th>name</th>\n",
       "      <th>country</th>\n",
       "      <th>longitude</th>\n",
       "      <th>latitude</th>\n",
       "    </tr>\n",
       "  </thead>\n",
       "  <tbody>\n",
       "    <tr>\n",
       "      <th>0</th>\n",
       "      <td>University of Cape Town</td>\n",
       "      <td>South Africa</td>\n",
       "      <td>18.4719</td>\n",
       "      <td>-33.9628</td>\n",
       "    </tr>\n",
       "    <tr>\n",
       "      <th>1</th>\n",
       "      <td>Stellenbosch University</td>\n",
       "      <td>South Africa</td>\n",
       "      <td>18.8679</td>\n",
       "      <td>-33.9321</td>\n",
       "    </tr>\n",
       "  </tbody>\n",
       "</table>\n",
       "</div>"
      ],
      "text/plain": [
       "                      name       country  longitude  latitude\n",
       "0  University of Cape Town  South Africa    18.4719  -33.9628\n",
       "1  Stellenbosch University  South Africa    18.8679  -33.9321"
      ]
     },
     "execution_count": 1,
     "metadata": {},
     "output_type": "execute_result"
    }
   ],
   "source": [
    "import pandas as pd \n",
    "import warnings\n",
    "\n",
    "# Suppress FutureWarning and UserWarning messages\n",
    "warnings.filterwarnings(\"ignore\", category=FutureWarning)\n",
    "warnings.filterwarnings(\"ignore\", category=UserWarning)\n",
    " \n",
    "pd.set_option('display.max_colwidth', None)\n",
    "\n",
    "program_df = df = pd.read_parquet('parquet_data_universities.parquet')\n",
    "program_df.head(2)\n"
   ]
  },
  {
   "cell_type": "code",
   "execution_count": 2,
   "metadata": {},
   "outputs": [
    {
     "ename": "TypeError",
     "evalue": "map_plot() missing 1 required positional argument: 'title'",
     "output_type": "error",
     "traceback": [
      "\u001b[0;31m---------------------------------------------------------------------------\u001b[0m",
      "\u001b[0;31mTypeError\u001b[0m                                 Traceback (most recent call last)",
      "Cell \u001b[0;32mIn[2], line 18\u001b[0m\n\u001b[1;32m     13\u001b[0m child_path \u001b[39m=\u001b[39m os\u001b[39m.\u001b[39mpath\u001b[39m.\u001b[39mjoin(notebook_path, child_name)\n\u001b[1;32m     16\u001b[0m africa_shapefile \u001b[39m=\u001b[39m child_path \u001b[39m# Replace with the actual file path\u001b[39;00m\n\u001b[0;32m---> 18\u001b[0m map_plot(africa_shapefile,program_df)\n",
      "\u001b[0;31mTypeError\u001b[0m: map_plot() missing 1 required positional argument: 'title'"
     ]
    }
   ],
   "source": [
    "import geopandas as gpd\n",
    "import matplotlib.pyplot as plt\n",
    "from scripts import map_plot\n",
    "import os\n",
    "\n",
    "# Get the current directory (path) of the notebook\n",
    "notebook_path = os.getcwd()\n",
    "\n",
    "# Specify the name of the child directory or file\n",
    "child_name = \"afr_g2014_2013_0/afr_g2014_2013_0.shp\"  # Replace with the desired child directory or file name\n",
    "\n",
    "# Construct the path to the child directory or file\n",
    "child_path = os.path.join(notebook_path, child_name)\n",
    " \n",
    " \n",
    "africa_shapefile = child_path # Replace with the actual file path\n",
    "\n",
    "map_plot(africa_shapefile,program_df)"
   ]
  },
  {
   "attachments": {},
   "cell_type": "markdown",
   "metadata": {},
   "source": [
    "## Get daat using universities library"
   ]
  },
  {
   "cell_type": "code",
   "execution_count": null,
   "metadata": {},
   "outputs": [],
   "source": [
    "import pandas as pd\n",
    "import universities\n",
    "\n",
    "uni = universities.API()\n",
    "\n",
    "try:\n",
    "    df = pd.read_parquet('data_universities.parquet')\n",
    "except FileNotFoundError:\n",
    "    all_data = uni.get_all()\n",
    "    df = pd.DataFrame(all_data)\n",
    "    df.rename(columns={0: 'data'}, inplace=True)\n",
    "\n",
    "    df.to_parquet('data_universities.parquet')\n",
    "\n",
    " \n",
    "\n",
    "df\n"
   ]
  },
  {
   "attachments": {},
   "cell_type": "markdown",
   "metadata": {},
   "source": [
    "##  get a list of countries in Africa using the \"awoc\" library"
   ]
  },
  {
   "cell_type": "code",
   "execution_count": null,
   "metadata": {},
   "outputs": [],
   "source": [
    "\n",
    "import awoc\n",
    "# Initialize the AWOC class.\n",
    "my_world = awoc.AWOC()\n",
    "# Let's fetch the list of nations of Africa.\n",
    "nations_of_Africa = my_world.get_countries_list_of('Africa')\n",
    "# nations_of_Africa"
   ]
  },
  {
   "attachments": {},
   "cell_type": "markdown",
   "metadata": {},
   "source": [
    "### Convert country name to its corresponding continent using pycountry_convert\n",
    "\n",
    "Convert a given country name to its corresponding continent. We uses the pycountry_convert library to perform the conversion. The function, named country_to_continent, takes a country name as input and returns the continent name as output."
   ]
  },
  {
   "cell_type": "code",
   "execution_count": null,
   "metadata": {},
   "outputs": [],
   "source": [
    "import pandas as pd\n",
    "import pycountry_convert as pc\n",
    "\n",
    "def country_to_continent(country_name):\n",
    "    \"\"\"\n",
    "    This function is or categorizing countries into their respective continents based on their names. \n",
    "        input: a valid  country name\n",
    "        output:  th corresponding continent name for the given country\n",
    "    \"\"\"\n",
    "    try:\n",
    "        if country_name == 'Vatican City':\n",
    "            return 'Europe'\n",
    "        else:\n",
    "            country_alpha2 = pc.country_name_to_country_alpha2(country_name)\n",
    "            country_continent_code = pc.country_alpha2_to_continent_code(country_alpha2)\n",
    "            country_continent_name = pc.convert_continent_code_to_continent_name(country_continent_code)\n",
    "            return country_continent_name\n",
    "    except KeyError:\n",
    "        return 'Unknown'\n",
    "\n",
    "# Apply the country_to_continent function to the 'Country' column and store the result in a new 'Continent' column\n",
    "df['continent'] = df['Country (English)'].apply(country_to_continent)\n",
    "df"
   ]
  },
  {
   "cell_type": "markdown",
   "metadata": {},
   "source": [
    "## filter African Univeristies"
   ]
  },
  {
   "cell_type": "code",
   "execution_count": null,
   "metadata": {},
   "outputs": [],
   "source": [
    "df_africa = df[df['continent'].str.contains('Africa')]\n",
    "# Reindex the DataFrame\n",
    "df_africa = df_africa.reset_index(drop=True)\n",
    "\n",
    "df_africa"
   ]
  },
  {
   "cell_type": "markdown",
   "metadata": {},
   "source": [
    "## get location coordnates"
   ]
  },
  {
   "cell_type": "code",
   "execution_count": null,
   "metadata": {},
   "outputs": [],
   "source": [
    "from geopy.geocoders import Nominatim\n",
    "from geopy.exc import GeocoderTimedOut\n",
    "\n",
    "def add_coordinates(df, uni_address_column, coun_address_column):\n",
    "    geolocator = Nominatim(user_agent=\"university-locator\")\n",
    "    df['Latitude'] = None\n",
    "    df['Longitude'] = None\n",
    "\n",
    "    def geocode_with_timeout(address):\n",
    "        try:\n",
    "            location = geolocator.geocode(address)\n",
    "            return location\n",
    "        except GeocoderTimedOut:\n",
    "            return geocode_with_timeout(address)\n",
    "        except Exception as e:\n",
    "            # print(f\"Geocoding error for address '{address}': {str(e)}\")\n",
    "            return None\n",
    "\n",
    "    for index, row in df.iterrows():\n",
    "        uni_address = row[uni_address_column]\n",
    "        coun_address = row[coun_address_column]\n",
    "        location = geocode_with_timeout(uni_address)\n",
    "\n",
    "        if location is None:\n",
    "            location = geocode_with_timeout(coun_address)\n",
    "\n",
    "        if location:\n",
    "            df.at[index, 'latitude'] = location.latitude\n",
    "            df.at[index, 'longitude'] = location.longitude\n",
    "\n",
    "    return df\n",
    "\n",
    "try:\n",
    "    df_with_coordinates = pd.read_parquet('df_with_coordinates.parquet')\n",
    "except FileNotFoundError:\n",
    "    df_with_coordinates = add_coordinates(df_africa, 'Name', 'Country')\n",
    "\n",
    "    df_with_coordinates.to_parquet('df_with_coordinates.parquet')\n",
    "\n",
    " \n",
    "\n",
    "df_with_coordinates = df_with_coordinates.drop(\"Country\", axis=1)\n",
    "df_with_coordinates = df_with_coordinates.rename(columns={'Country (English)': 'country','Name': 'name','Latitude': 'latitude','Longitude': 'longitude','Continent': 'continent'})\n",
    "df_with_coordinates.head()"
   ]
  },
  {
   "cell_type": "markdown",
   "metadata": {},
   "source": [
    "## find none values if there are any"
   ]
  },
  {
   "cell_type": "code",
   "execution_count": null,
   "metadata": {},
   "outputs": [],
   "source": [
    "def find_none_values(df):\n",
    "    null_rows = df[df['latitude'].isnull() & df['longitude'].isnull()]\n",
    "    return null_rows\n",
    "none_values_df = find_none_values(df_with_coordinates)\n",
    "none_values_df"
   ]
  },
  {
   "cell_type": "markdown",
   "metadata": {},
   "source": [
    "## concatenate the two DataFrames together"
   ]
  },
  {
   "cell_type": "code",
   "execution_count": null,
   "metadata": {},
   "outputs": [],
   "source": [
    "dff_loc = pd.read_parquet('add_universities_data.parquet')\n",
    "dff_loc = dff_loc.rename(columns={'Latitude': 'latitude','Longitude': 'longitude'})\n",
    " \n",
    "concatenated_df = pd.concat([df_with_coordinates, program_df,dff_loc], ignore_index=True)\n",
    "concatenated_df"
   ]
  },
  {
   "cell_type": "markdown",
   "metadata": {},
   "source": [
    "## plot"
   ]
  },
  {
   "cell_type": "code",
   "execution_count": null,
   "metadata": {},
   "outputs": [],
   "source": [
    "import geopandas as gpd\n",
    "import matplotlib.pyplot as plt\n",
    "from scripts import map_plot\n",
    "\n",
    "\n",
    "map_plot(africa_shapefile,concatenated_df,\"Quantitative Statistical Ecology Programs in Africa\")"
   ]
  },
  {
   "cell_type": "code",
   "execution_count": null,
   "metadata": {},
   "outputs": [],
   "source": []
  },
  {
   "cell_type": "code",
   "execution_count": null,
   "metadata": {},
   "outputs": [],
   "source": []
  }
 ],
 "metadata": {
  "kernelspec": {
   "display_name": "Python 3",
   "language": "python",
   "name": "python3"
  },
  "language_info": {
   "codemirror_mode": {
    "name": "ipython",
    "version": 3
   },
   "file_extension": ".py",
   "mimetype": "text/x-python",
   "name": "python",
   "nbconvert_exporter": "python",
   "pygments_lexer": "ipython3",
   "version": "3.11.4"
  },
  "orig_nbformat": 4
 },
 "nbformat": 4,
 "nbformat_minor": 2
}
